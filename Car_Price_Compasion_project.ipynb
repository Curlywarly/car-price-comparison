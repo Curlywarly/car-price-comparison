{
  "nbformat": 4,
  "nbformat_minor": 0,
  "metadata": {
    "colab": {
      "provenance": []
    },
    "kernelspec": {
      "name": "python3",
      "display_name": "Python 3"
    },
    "language_info": {
      "name": "python"
    }
  },
  "cells": [
    {
      "cell_type": "code",
      "execution_count": 5,
      "metadata": {
        "colab": {
          "base_uri": "https://localhost:8080/"
        },
        "id": "rVWCKLZ9VWhA",
        "outputId": "968beae5-a6e9-425a-b1b3-a65bc48a1608"
      },
      "outputs": [
        {
          "output_type": "stream",
          "name": "stdout",
          "text": [
            "Enter car brands to compare (comma-separated): honda\n",
            "\n",
            " Price Comparison\n",
            "-----------------------\n",
            "Honda: ₹7.0 lakh - ₹17.5 lakh\n",
            "\n",
            " Brand with the lowest starting price: *Honda* (₹7.0 lakh)\n"
          ]
        }
      ],
      "source": [
        "# Step 1: Define car price data (in lakhs)\n",
        "car_prices = {\n",
        "    \"Maruti\": [4.5, 11.0],\n",
        "    \"Hyundai\": [5.0, 15.0],\n",
        "    \"Honda\": [7.0, 17.5],\n",
        "    \"Tata\": [5.5, 13.0],\n",
        "    \"Mahindra\": [6.0, 18.0]\n",
        "}\n",
        "\n",
        "# Step 2: Take user input and process brand names\n",
        "brands_input = input(\"Enter car brands to compare (comma-separated): \")\n",
        "brand_list = [brand.strip().title() for brand in brands_input.split(\",\")]\n",
        "\n",
        "# Step 3: Display price comparison\n",
        "print(\"\\n Price Comparison\\n-----------------------\")\n",
        "for brand in brand_list:\n",
        "    if brand in car_prices:\n",
        "        start_price, end_price = car_prices[brand]\n",
        "        print(f\"{brand}: ₹{start_price} lakh - ₹{end_price} lakh\")\n",
        "    else:\n",
        "        print(f\"{brand}:  Data not available\")\n",
        "\n",
        "# Step 4: Show brand with lowest starting price (from valid input)\n",
        "valid_brands = [brand for brand in brand_list if brand in car_prices]\n",
        "\n",
        "if valid_brands:\n",
        "    min_brand = min(valid_brands, key=lambda b: car_prices[b][0])\n",
        "    print(f\"\\n Brand with the lowest starting price: *{min_brand}* (₹{car_prices[min_brand][0]} lakh)\")\n",
        "else:\n",
        "    print(\"\\n No valid brands entered for comparison.\")\n"
      ]
    }
  ]
}